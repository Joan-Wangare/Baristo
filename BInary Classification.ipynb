{
  "nbformat": 4,
  "nbformat_minor": 0,
  "metadata": {
    "colab": {
      "name": "BInary classification.ipynb",
      "provenance": [],
      "include_colab_link": true
    },
    "kernelspec": {
      "name": "python3",
      "display_name": "Python 3"
    },
    "language_info": {
      "name": "python"
    }
  },
  "cells": [
    {
      "cell_type": "markdown",
      "metadata": {
        "id": "view-in-github",
        "colab_type": "text"
      },
      "source": [
        "<a href=\"https://colab.research.google.com/github/Joan-Wangare/Baristo/blob/main/BInary%20Classification.ipynb\" target=\"_parent\"><img src=\"https://colab.research.google.com/assets/colab-badge.svg\" alt=\"Open In Colab\"/></a>"
      ]
    },
    {
      "cell_type": "markdown",
      "source": [
        "**GOOGLE COLAB WORKSPACE LINK: https://colab.research.google.com/drive/1Gx9aI40SJ8iqh7gW7g62Ww3DOClAspqp?usp=sharing**"
      ],
      "metadata": {
        "id": "E_oaMu9EQ3hA"
      }
    },
    {
      "cell_type": "markdown",
      "source": [
        "GROUP 10 [BINARY CLASSIFICATION]\n",
        "\n",
        "MEMBERS:\n",
        "\n",
        "1. Joan Wangare - 18/05481\n",
        "2. Brian kipruto - 18/02422\n",
        "3. Samuel Gicho - 18/03385\n",
        "4. Moses Njenga - 18/04314\n",
        "5. Kezia Gatonye - 18/03787\n",
        "6. Broline Nyakundi -18/02390\n",
        "7. Peter Lemashon - 18/03097"
      ],
      "metadata": {
        "id": "uuToxQ9Sd1_a"
      }
    },
    {
      "cell_type": "markdown",
      "source": [
        "**Import and load the data**"
      ],
      "metadata": {
        "id": "aE8btAkTL5if"
      }
    },
    {
      "cell_type": "code",
      "source": [
        "import numpy as np\n",
        "import seaborn as sns\n",
        "import matplotlib.pyplot as plt\n",
        "from sklearn.datasets import load_breast_cancer\n",
        "\n",
        "dataset = load_breast_cancer()"
      ],
      "metadata": {
        "id": "XA-U27Y5efbv"
      },
      "execution_count": 1,
      "outputs": []
    },
    {
      "cell_type": "code",
      "source": [
        "sns.set_style('dark')\n",
        "import matplotlib as mpl\n",
        "mpl.style.use(['https://gist.githubusercontent.com/BrendanMartin/01e71bb9550774e2ccff3af7574c0020/raw/6fa9681c7d0232d34c9271de9be150e584e606fe/lds_default.mplstyle'])\n",
        "mpl.rcParams.update({\"figure.figsize\": (8,6), \"axes.titlepad\": 22.0})"
      ],
      "metadata": {
        "id": "TCfdTYSbhfJ6"
      },
      "execution_count": 2,
      "outputs": []
    },
    {
      "cell_type": "markdown",
      "source": [
        "**Print the target variable, target names, and frequency of each unique value**"
      ],
      "metadata": {
        "id": "kmXFfm38MViZ"
      }
    },
    {
      "cell_type": "code",
      "source": [
        "print('Target variables  : ', dataset['target_names'])\n",
        "\n",
        "(unique, counts) = np.unique(dataset['target'], return_counts=True)\n",
        "\n",
        "print('Unique values of the target variable', unique)\n",
        "print('Counts of the target variable :', counts)"
      ],
      "metadata": {
        "colab": {
          "base_uri": "https://localhost:8080/"
        },
        "id": "fuJ8Qu7MhtfB",
        "outputId": "10843db0-8057-4cda-be08-a27f7a02d6fc"
      },
      "execution_count": 3,
      "outputs": [
        {
          "output_type": "stream",
          "name": "stdout",
          "text": [
            "Target variables  :  ['malignant' 'benign']\n",
            "Unique values of the target variable [0 1]\n",
            "Counts of the target variable : [212 357]\n"
          ]
        }
      ]
    },
    {
      "cell_type": "markdown",
      "source": [
        "**Plot a bar chart to see the target variable**"
      ],
      "metadata": {
        "id": "hoiQtNzfMlJC"
      }
    },
    {
      "cell_type": "code",
      "source": [
        "sns.barplot(x=dataset['target_names'], y=counts)\n",
        "plt.title('Target variable counts in dataset')\n",
        "plt.show()"
      ],
      "metadata": {
        "colab": {
          "base_uri": "https://localhost:8080/",
          "height": 420
        },
        "id": "FG9tFqUuIiVz",
        "outputId": "7a464fee-24ac-47b0-d827-a6023e6bc630"
      },
      "execution_count": 4,
      "outputs": [
        {
          "output_type": "display_data",
          "data": {
            "text/plain": [
              "<Figure size 576x432 with 1 Axes>"
            ],
            "image/png": "[encoded data removed]"
          },
          "metadata": {}
        }
      ]
    },
    {
      "cell_type": "markdown",
      "source": [
        "In this dataset, we have two classes: malignant denoted as 0 and benign denoted as 1, making this a binary classification problem.To perform binary classification using Logistic Regression with sklearn, we need to accomplish the following steps:"
      ],
      "metadata": {
        "id": "CWEy8M6iM7Qs"
      }
    },
    {
      "cell_type": "markdown",
      "source": [
        "**Step 1: Define explonatory variables and target variable**"
      ],
      "metadata": {
        "id": "RaheVbxHNV_6"
      }
    },
    {
      "cell_type": "code",
      "source": [
        "x = dataset['data']\n",
        "y = dataset['target']"
      ],
      "metadata": {
        "id": "hrwi70JhJVr6"
      },
      "execution_count": 5,
      "outputs": []
    },
    {
      "cell_type": "markdown",
      "source": [
        "**Step 2:  Apply normalization operation for numerical stability**"
      ],
      "metadata": {
        "id": "HXkE-TEENyed"
      }
    },
    {
      "cell_type": "code",
      "source": [
        "from sklearn.preprocessing import StandardScaler\n",
        "standardizer = StandardScaler()\n",
        "x = standardizer.fit_transform(x)"
      ],
      "metadata": {
        "id": "9zpBxFi5JkOo"
      },
      "execution_count": 6,
      "outputs": []
    },
    {
      "cell_type": "markdown",
      "source": [
        "**Step 3: Split the dataset into training and testing sets**"
      ],
      "metadata": {
        "id": "_Q-6-AK1N4Qx"
      }
    },
    {
      "cell_type": "code",
      "source": [
        "from sklearn.model_selection import train_test_split\n",
        "\n",
        "x_train, x_test, y_train, y_test = train_test_split(x, y, test_size = 0.25, random_state=0)"
      ],
      "metadata": {
        "id": "msUsjwW0KIOr"
      },
      "execution_count": 8,
      "outputs": []
    },
    {
      "cell_type": "markdown",
      "source": [
        "**Step 4: Fit a Logistic Regression Model to the train data**"
      ],
      "metadata": {
        "id": "Zm1MxDbbN-zZ"
      }
    },
    {
      "cell_type": "code",
      "source": [
        "from sklearn.linear_model import LogisticRegression\n",
        "model = LogisticRegression()\n",
        "model.fit(x_train, y_train)"
      ],
      "metadata": {
        "colab": {
          "base_uri": "https://localhost:8080/"
        },
        "id": "yRO0XOrcKqvH",
        "outputId": "a8df5cf6-6948-4076-9c9b-92ed386caf45"
      },
      "execution_count": 10,
      "outputs": [
        {
          "output_type": "execute_result",
          "data": {
            "text/plain": [
              "LogisticRegression()"
            ]
          },
          "metadata": {},
          "execution_count": 10
        }
      ]
    },
    {
      "cell_type": "markdown",
      "source": [
        "**Step 5: Make predictions on the testing data**"
      ],
      "metadata": {
        "id": "oAFEYc0yOPf5"
      }
    },
    {
      "cell_type": "code",
      "source": [
        "predictions = model.predict(x_test)"
      ],
      "metadata": {
        "id": "EU-3hi7CLdVP"
      },
      "execution_count": 11,
      "outputs": []
    },
    {
      "cell_type": "markdown",
      "source": [
        "**Step 6: Calculate the accuracy score by comparing the actual values and predicted values**"
      ],
      "metadata": {
        "id": "GKryPP7jLxoT"
      }
    },
    {
      "cell_type": "code",
      "source": [
        "from sklearn.metrics import confusion_matrix\n",
        "\n",
        "cm = confusion_matrix(y_test, predictions)\n",
        "\n",
        "TN, FP, FN, TP = confusion_matrix(y_test, predictions).ravel()\n",
        "\n",
        "print('True Positive(TP)  = ', TP)\n",
        "print('False Positive(FP) = ', FP)\n",
        "print('True Negative(TN)  = ', TN)\n",
        "print('False Negative(FN) = ', FN)\n",
        "\n",
        "accuracy =  (TP+TN) /(TP+FP+TN+FN)\n",
        "\n",
        "print('Accuracy of the binary classification = {:0.3f}'.format(accuracy))"
      ],
      "metadata": {
        "colab": {
          "base_uri": "https://localhost:8080/"
        },
        "id": "Y8x9vxBDLgbM",
        "outputId": "b3ce3f2f-51fc-4f02-bb94-85374810848b"
      },
      "execution_count": 12,
      "outputs": [
        {
          "output_type": "stream",
          "name": "stdout",
          "text": [
            "True Positive(TP)  =  88\n",
            "False Positive(FP) =  3\n",
            "True Negative(TN)  =  50\n",
            "False Negative(FN) =  2\n",
            "Accuracy of the binary classification = 0.965\n"
          ]
        }
      ]
    }
  ]
}